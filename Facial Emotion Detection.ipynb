{
 "cells": [
  {
   "cell_type": "code",
   "execution_count": 1,
   "id": "9f7d16a4",
   "metadata": {},
   "outputs": [
    {
     "name": "stdout",
     "output_type": "stream",
     "text": [
      "Requirement already satisfied: pillow in /Users/yallareddysadumchinnapareddigari/anaconda3/lib/python3.11/site-packages (9.4.0)\n",
      "Requirement already satisfied: scikit-learn in /Users/yallareddysadumchinnapareddigari/anaconda3/lib/python3.11/site-packages (1.3.0)\n",
      "Requirement already satisfied: numpy in /Users/yallareddysadumchinnapareddigari/anaconda3/lib/python3.11/site-packages (1.24.3)\n",
      "Requirement already satisfied: scipy>=1.5.0 in /Users/yallareddysadumchinnapareddigari/anaconda3/lib/python3.11/site-packages (from scikit-learn) (1.10.1)\n",
      "Requirement already satisfied: joblib>=1.1.1 in /Users/yallareddysadumchinnapareddigari/anaconda3/lib/python3.11/site-packages (from scikit-learn) (1.2.0)\n",
      "Requirement already satisfied: threadpoolctl>=2.0.0 in /Users/yallareddysadumchinnapareddigari/anaconda3/lib/python3.11/site-packages (from scikit-learn) (2.2.0)\n",
      "Note: you may need to restart the kernel to use updated packages.\n"
     ]
    }
   ],
   "source": [
    "pip install pillow scikit-learn numpy\n"
   ]
  },
  {
   "cell_type": "code",
   "execution_count": 8,
   "id": "0b207009",
   "metadata": {},
   "outputs": [
    {
     "name": "stdout",
     "output_type": "stream",
     "text": [
      "Predicted Emotion: Surprise\n"
     ]
    }
   ],
   "source": [
    "from PIL import Image\n",
    "import numpy as np\n",
    "from sklearn.svm import SVC\n",
    "from sklearn.preprocessing import StandardScaler\n",
    "from sklearn.pipeline import make_pipeline\n",
    "from sklearn.datasets import fetch_openml\n",
    "\n",
    "# Create a synthetic dataset (replace this with actual dataset loading and preprocessing)\n",
    "def load_synthetic_dataset():\n",
    "    num_samples = 1000\n",
    "    img_size = 48\n",
    "    num_classes = 7\n",
    "    \n",
    "    # Generate synthetic data\n",
    "    X = np.random.rand(num_samples, img_size * img_size)\n",
    "    y = np.random.randint(0, num_classes, num_samples)\n",
    "    \n",
    "    # Scale data\n",
    "    scaler = StandardScaler()\n",
    "    X = scaler.fit_transform(X)\n",
    "    \n",
    "    return X, y\n",
    "\n",
    "# Train a simple SVM classifier\n",
    "def train_classifier(X_train, y_train):\n",
    "    scaler = StandardScaler()\n",
    "    clf = make_pipeline(scaler, SVC(kernel='linear', probability=True))\n",
    "    clf.fit(X_train, y_train)\n",
    "    return clf\n",
    "\n",
    "# Extract facial regions and preprocess\n",
    "def preprocess_image(image):\n",
    "    image = image.convert('L')  # Convert to grayscale\n",
    "    image = image.resize((48, 48))  # Resize to 48x48\n",
    "    image_array = np.array(image)\n",
    "    image_array = image_array.flatten()\n",
    "    return image_array\n",
    "\n",
    "# Predict emotion\n",
    "def predict_emotion(model, image):\n",
    "    image_array = preprocess_image(image)\n",
    "    image_array = image_array.reshape(1, -1)\n",
    "    emotion = model.predict(image_array)[0]\n",
    "    return emotion\n",
    "\n",
    "# Load the dataset and train the model\n",
    "X_train, y_train = load_synthetic_dataset()\n",
    "model = train_classifier(X_train, y_train)\n",
    "\n",
    "def main(image_path):\n",
    "    # Load and preprocess the image\n",
    "    image = Image.open(image_path)\n",
    "    \n",
    "    # Predict emotion\n",
    "    emotion = predict_emotion(model, image)\n",
    "    \n",
    "    # Define emotion labels\n",
    "    emotion_labels = ['Angry', 'Disgust', 'Fear', 'Happy', 'Sad', 'Surprise', 'Neutral']\n",
    "    label = emotion_labels[emotion]\n",
    "    \n",
    "    print(f'Predicted Emotion: {label}')\n",
    "\n",
    "# Example usage\n",
    "image_path = 'image.jpeg'  # Replace with your image path\n",
    "main(image_path)\n"
   ]
  },
  {
   "cell_type": "code",
   "execution_count": null,
   "id": "d8f2f65f",
   "metadata": {},
   "outputs": [],
   "source": []
  },
  {
   "cell_type": "code",
   "execution_count": null,
   "id": "d638e425",
   "metadata": {},
   "outputs": [],
   "source": []
  }
 ],
 "metadata": {
  "kernelspec": {
   "display_name": "Python 3 (ipykernel)",
   "language": "python",
   "name": "python3"
  },
  "language_info": {
   "codemirror_mode": {
    "name": "ipython",
    "version": 3
   },
   "file_extension": ".py",
   "mimetype": "text/x-python",
   "name": "python",
   "nbconvert_exporter": "python",
   "pygments_lexer": "ipython3",
   "version": "3.11.4"
  }
 },
 "nbformat": 4,
 "nbformat_minor": 5
}
